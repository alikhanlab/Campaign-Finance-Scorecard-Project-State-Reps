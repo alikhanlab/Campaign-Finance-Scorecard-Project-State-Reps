{
 "cells": [
  {
   "cell_type": "code",
   "execution_count": 1,
   "metadata": {},
   "outputs": [],
   "source": [
    "import pandas as pd\n",
    "import re\n",
    "import numpy as np\n",
    "from fuzzywuzzy import fuzz"
   ]
  },
  {
   "cell_type": "code",
   "execution_count": 4,
   "metadata": {},
   "outputs": [],
   "source": [
    "df_lobby_2018 = pd.read_csv('data/lobbyist(2017-2018).csv')\n",
    "df_lobby_2016 = pd.read_csv('data/lobbyist(2015-2016).csv')\n",
    "df_contribuion = pd.read_csv('data/contribution_processed.csv')"
   ]
  },
  {
   "cell_type": "markdown",
   "metadata": {},
   "source": [
    "# 2018 Lobbyist"
   ]
  },
  {
   "cell_type": "code",
   "execution_count": 126,
   "metadata": {},
   "outputs": [],
   "source": [
    "lobby_list= df_lobby_2016.append(df_lobby_2018)['Name'].unique()"
   ]
  },
  {
   "cell_type": "code",
   "execution_count": 68,
   "metadata": {},
   "outputs": [
    {
     "data": {
      "text/plain": [
       "(3637,)"
      ]
     },
     "execution_count": 68,
     "metadata": {},
     "output_type": "execute_result"
    }
   ],
   "source": [
    "lobby_list.shape"
   ]
  },
  {
   "cell_type": "code",
   "execution_count": 109,
   "metadata": {},
   "outputs": [],
   "source": [
    "donor_list = df_contribuion['Donor_Name'].unique()"
   ]
  },
  {
   "cell_type": "code",
   "execution_count": 70,
   "metadata": {},
   "outputs": [
    {
     "data": {
      "text/plain": [
       "(51219,)"
      ]
     },
     "execution_count": 70,
     "metadata": {},
     "output_type": "execute_result"
    }
   ],
   "source": [
    "donor_list.shape"
   ]
  },
  {
   "cell_type": "code",
   "execution_count": 134,
   "metadata": {},
   "outputs": [],
   "source": [
    "def clean_text(text):\n",
    "    '''\n",
    "    Remove special charecters, numbers\n",
    "    Return lower case alphabet charecters only\n",
    "    '''\n",
    "    text = str(text).upper()\n",
    "    text = re.sub('[^A-Za-z]+', '', text)\n",
    "    return text\n",
    "\n",
    "def takeoff_par(name):\n",
    "    name = str(name)\n",
    "    head, sep, tail = name.partition('(')\n",
    "    return head"
   ]
  },
  {
   "cell_type": "code",
   "execution_count": 130,
   "metadata": {},
   "outputs": [],
   "source": [
    "lobby_list = [takeoff_par(x) for x in lobby_list]\n",
    "lobby_list_clean = [clean_text(x) for x in lobby_list]"
   ]
  },
  {
   "cell_type": "code",
   "execution_count": 131,
   "metadata": {},
   "outputs": [],
   "source": [
    "donor_list_clean = [clean_text(x) for x in donor_list]"
   ]
  },
  {
   "cell_type": "code",
   "execution_count": 132,
   "metadata": {},
   "outputs": [
    {
     "data": {
      "text/plain": [
       "51219"
      ]
     },
     "execution_count": 132,
     "metadata": {},
     "output_type": "execute_result"
    }
   ],
   "source": [
    "len(donor_list_clean)"
   ]
  },
  {
   "cell_type": "code",
   "execution_count": 133,
   "metadata": {},
   "outputs": [
    {
     "data": {
      "text/plain": [
       "3637"
      ]
     },
     "execution_count": 133,
     "metadata": {},
     "output_type": "execute_result"
    }
   ],
   "source": [
    "len(lobby_list_clean)"
   ]
  },
  {
   "cell_type": "code",
   "execution_count": 142,
   "metadata": {},
   "outputs": [],
   "source": [
    "match = []\n",
    "donor_list_clean = np.array(donor_list_clean)\n",
    "lobby_list_clean = np.array(lobby_list_clean)\n",
    "for donor in donor_list_clean:\n",
    "    for lobby in lobby_list_clean:\n",
    "        if fuzz.ratio(donor, lobby) >= 85:\n",
    "            match.append(donor)"
   ]
  },
  {
   "cell_type": "code",
   "execution_count": 144,
   "metadata": {},
   "outputs": [],
   "source": [
    "match_un = np.array(match.copy())"
   ]
  },
  {
   "cell_type": "code",
   "execution_count": 149,
   "metadata": {},
   "outputs": [],
   "source": [
    "match_set = set(match.copy())"
   ]
  },
  {
   "cell_type": "code",
   "execution_count": 152,
   "metadata": {},
   "outputs": [
    {
     "data": {
      "text/plain": [
       "2657"
      ]
     },
     "execution_count": 152,
     "metadata": {},
     "output_type": "execute_result"
    }
   ],
   "source": [
    "len(match_set)"
   ]
  },
  {
   "cell_type": "code",
   "execution_count": 153,
   "metadata": {},
   "outputs": [],
   "source": [
    "df_contribuion['Donor_clean'] = df_contribuion['Donor_Name'].apply(clean_text)"
   ]
  },
  {
   "cell_type": "code",
   "execution_count": 155,
   "metadata": {},
   "outputs": [],
   "source": [
    "def lobby_search(name):\n",
    "    return name in match_set"
   ]
  },
  {
   "cell_type": "code",
   "execution_count": 156,
   "metadata": {},
   "outputs": [],
   "source": [
    "df_contribuion['Lobbyist'] = df_contribuion['Donor_clean'].apply(lobby_search)"
   ]
  },
  {
   "cell_type": "code",
   "execution_count": 158,
   "metadata": {},
   "outputs": [
    {
     "data": {
      "text/plain": [
       "False    101161\n",
       "True      17300\n",
       "Name: Lobbyist, dtype: int64"
      ]
     },
     "execution_count": 158,
     "metadata": {},
     "output_type": "execute_result"
    }
   ],
   "source": [
    "df_contribuion['Lobbyist'].value_counts()"
   ]
  },
  {
   "cell_type": "code",
   "execution_count": 161,
   "metadata": {},
   "outputs": [],
   "source": [
    "df_contribuion.drop(columns=['Donor_clean'], inplace=True)"
   ]
  },
  {
   "cell_type": "code",
   "execution_count": 163,
   "metadata": {},
   "outputs": [
    {
     "data": {
      "text/html": [
       "<div>\n",
       "<style scoped>\n",
       "    .dataframe tbody tr th:only-of-type {\n",
       "        vertical-align: middle;\n",
       "    }\n",
       "\n",
       "    .dataframe tbody tr th {\n",
       "        vertical-align: top;\n",
       "    }\n",
       "\n",
       "    .dataframe thead th {\n",
       "        text-align: right;\n",
       "    }\n",
       "</style>\n",
       "<table border=\"1\" class=\"dataframe\">\n",
       "  <thead>\n",
       "    <tr style=\"text-align: right;\">\n",
       "      <th></th>\n",
       "      <th>Unnamed: 0</th>\n",
       "      <th>Address</th>\n",
       "      <th>Amount</th>\n",
       "      <th>City</th>\n",
       "      <th>Contributor_ID</th>\n",
       "      <th>Contributor_Type</th>\n",
       "      <th>Date</th>\n",
       "      <th>Employer</th>\n",
       "      <th>First_Name</th>\n",
       "      <th>Full_Name</th>\n",
       "      <th>...</th>\n",
       "      <th>Line_Sequence</th>\n",
       "      <th>Occupation</th>\n",
       "      <th>Principal_Officer</th>\n",
       "      <th>Report_ID</th>\n",
       "      <th>State</th>\n",
       "      <th>Zip</th>\n",
       "      <th>Donor_Name</th>\n",
       "      <th>Industry</th>\n",
       "      <th>PAC</th>\n",
       "      <th>Lobbyist</th>\n",
       "    </tr>\n",
       "  </thead>\n",
       "  <tbody>\n",
       "    <tr>\n",
       "      <td>0</td>\n",
       "      <td>7373</td>\n",
       "      <td>270 S. Common Street</td>\n",
       "      <td>500.00</td>\n",
       "      <td>Lynn</td>\n",
       "      <td>NaN</td>\n",
       "      <td>Individual</td>\n",
       "      <td>2015-01-01</td>\n",
       "      <td>McGrath Enterprises</td>\n",
       "      <td>Patrick</td>\n",
       "      <td>Daniel F. Cahill</td>\n",
       "      <td>...</td>\n",
       "      <td>9166451</td>\n",
       "      <td>Developer</td>\n",
       "      <td>NaN</td>\n",
       "      <td>217037</td>\n",
       "      <td>MA</td>\n",
       "      <td>01905</td>\n",
       "      <td>PATRICK MCGRATH</td>\n",
       "      <td>NaN</td>\n",
       "      <td>NaN</td>\n",
       "      <td>False</td>\n",
       "    </tr>\n",
       "    <tr>\n",
       "      <td>1</td>\n",
       "      <td>7374</td>\n",
       "      <td>186 Perkins Row</td>\n",
       "      <td>250.00</td>\n",
       "      <td>Topsfield</td>\n",
       "      <td>NaN</td>\n",
       "      <td>Individual</td>\n",
       "      <td>2015-01-15</td>\n",
       "      <td>Self</td>\n",
       "      <td>Thomas</td>\n",
       "      <td>Daniel F. Cahill</td>\n",
       "      <td>...</td>\n",
       "      <td>9166452</td>\n",
       "      <td>Attorney</td>\n",
       "      <td>NaN</td>\n",
       "      <td>217037</td>\n",
       "      <td>MA</td>\n",
       "      <td>01983</td>\n",
       "      <td>THOMAS DEMAKIS</td>\n",
       "      <td>Healthcare</td>\n",
       "      <td>NaN</td>\n",
       "      <td>False</td>\n",
       "    </tr>\n",
       "    <tr>\n",
       "      <td>2</td>\n",
       "      <td>7634</td>\n",
       "      <td>11 Lake Ave.</td>\n",
       "      <td>25.00</td>\n",
       "      <td>Lynn</td>\n",
       "      <td>NaN</td>\n",
       "      <td>Individual</td>\n",
       "      <td>2015-03-02</td>\n",
       "      <td>NaN</td>\n",
       "      <td>Loretta</td>\n",
       "      <td>Daniel F. Cahill</td>\n",
       "      <td>...</td>\n",
       "      <td>9168914</td>\n",
       "      <td>NaN</td>\n",
       "      <td>NaN</td>\n",
       "      <td>217124</td>\n",
       "      <td>MA</td>\n",
       "      <td>10904</td>\n",
       "      <td>LORETTA O'DONNELL</td>\n",
       "      <td>NaN</td>\n",
       "      <td>NaN</td>\n",
       "      <td>False</td>\n",
       "    </tr>\n",
       "    <tr>\n",
       "      <td>3</td>\n",
       "      <td>7635</td>\n",
       "      <td>7 William St.</td>\n",
       "      <td>50.00</td>\n",
       "      <td>Lynn</td>\n",
       "      <td>NaN</td>\n",
       "      <td>Individual</td>\n",
       "      <td>2015-03-02</td>\n",
       "      <td>NaN</td>\n",
       "      <td>Stephen</td>\n",
       "      <td>Daniel F. Cahill</td>\n",
       "      <td>...</td>\n",
       "      <td>9168915</td>\n",
       "      <td>NaN</td>\n",
       "      <td>NaN</td>\n",
       "      <td>217124</td>\n",
       "      <td>MA</td>\n",
       "      <td>01904</td>\n",
       "      <td>STEPHEN SPENCER</td>\n",
       "      <td>NaN</td>\n",
       "      <td>NaN</td>\n",
       "      <td>False</td>\n",
       "    </tr>\n",
       "    <tr>\n",
       "      <td>4</td>\n",
       "      <td>7636</td>\n",
       "      <td>20 Bulfinch Ter.</td>\n",
       "      <td>50.00</td>\n",
       "      <td>Lynn</td>\n",
       "      <td>NaN</td>\n",
       "      <td>Individual</td>\n",
       "      <td>2015-03-02</td>\n",
       "      <td>NaN</td>\n",
       "      <td>Ann Marie</td>\n",
       "      <td>Daniel F. Cahill</td>\n",
       "      <td>...</td>\n",
       "      <td>9168916</td>\n",
       "      <td>NaN</td>\n",
       "      <td>NaN</td>\n",
       "      <td>217124</td>\n",
       "      <td>MA</td>\n",
       "      <td>01902</td>\n",
       "      <td>ANN MARIE LEONARD</td>\n",
       "      <td>NaN</td>\n",
       "      <td>NaN</td>\n",
       "      <td>False</td>\n",
       "    </tr>\n",
       "    <tr>\n",
       "      <td>...</td>\n",
       "      <td>...</td>\n",
       "      <td>...</td>\n",
       "      <td>...</td>\n",
       "      <td>...</td>\n",
       "      <td>...</td>\n",
       "      <td>...</td>\n",
       "      <td>...</td>\n",
       "      <td>...</td>\n",
       "      <td>...</td>\n",
       "      <td>...</td>\n",
       "      <td>...</td>\n",
       "      <td>...</td>\n",
       "      <td>...</td>\n",
       "      <td>...</td>\n",
       "      <td>...</td>\n",
       "      <td>...</td>\n",
       "      <td>...</td>\n",
       "      <td>...</td>\n",
       "      <td>...</td>\n",
       "      <td>...</td>\n",
       "      <td>...</td>\n",
       "    </tr>\n",
       "    <tr>\n",
       "      <td>118456</td>\n",
       "      <td>513155</td>\n",
       "      <td>45 Winthrop Street</td>\n",
       "      <td>50.00</td>\n",
       "      <td>Boston</td>\n",
       "      <td>NaN</td>\n",
       "      <td>Individual</td>\n",
       "      <td>2018-09-06</td>\n",
       "      <td>NaN</td>\n",
       "      <td>Np</td>\n",
       "      <td>Chynah Tyler</td>\n",
       "      <td>...</td>\n",
       "      <td>13404233</td>\n",
       "      <td>NaN</td>\n",
       "      <td>NaN</td>\n",
       "      <td>712794</td>\n",
       "      <td>MA</td>\n",
       "      <td>02119</td>\n",
       "      <td>NP RIGGS</td>\n",
       "      <td>NaN</td>\n",
       "      <td>NaN</td>\n",
       "      <td>False</td>\n",
       "    </tr>\n",
       "    <tr>\n",
       "      <td>118457</td>\n",
       "      <td>513156</td>\n",
       "      <td>50 Forsyth Street</td>\n",
       "      <td>150.00</td>\n",
       "      <td>Boston</td>\n",
       "      <td>NaN</td>\n",
       "      <td>Individual</td>\n",
       "      <td>2018-09-06</td>\n",
       "      <td>Self</td>\n",
       "      <td>Chicken</td>\n",
       "      <td>Chynah Tyler</td>\n",
       "      <td>...</td>\n",
       "      <td>13404234</td>\n",
       "      <td>Resturant</td>\n",
       "      <td>NaN</td>\n",
       "      <td>712794</td>\n",
       "      <td>MA</td>\n",
       "      <td>02115</td>\n",
       "      <td>CHICKEN LOUS</td>\n",
       "      <td>Self-Employed</td>\n",
       "      <td>NaN</td>\n",
       "      <td>False</td>\n",
       "    </tr>\n",
       "    <tr>\n",
       "      <td>118458</td>\n",
       "      <td>513157</td>\n",
       "      <td>Actblue</td>\n",
       "      <td>1413.42</td>\n",
       "      <td>Actblue</td>\n",
       "      <td>NaN</td>\n",
       "      <td>Individual</td>\n",
       "      <td>2018-08-28</td>\n",
       "      <td>Actblue</td>\n",
       "      <td>Actblue</td>\n",
       "      <td>Chynah Tyler</td>\n",
       "      <td>...</td>\n",
       "      <td>13404235</td>\n",
       "      <td>actable</td>\n",
       "      <td>NaN</td>\n",
       "      <td>712794</td>\n",
       "      <td>MA</td>\n",
       "      <td>NaN</td>\n",
       "      <td>ACTBLUE ACTBLUE</td>\n",
       "      <td>NaN</td>\n",
       "      <td>NaN</td>\n",
       "      <td>False</td>\n",
       "    </tr>\n",
       "    <tr>\n",
       "      <td>118459</td>\n",
       "      <td>513158</td>\n",
       "      <td>60 Winthrop St</td>\n",
       "      <td>50.00</td>\n",
       "      <td>Roxbury</td>\n",
       "      <td>NaN</td>\n",
       "      <td>Individual</td>\n",
       "      <td>2018-09-06</td>\n",
       "      <td>NaN</td>\n",
       "      <td>Carl</td>\n",
       "      <td>Chynah Tyler</td>\n",
       "      <td>...</td>\n",
       "      <td>13404236</td>\n",
       "      <td>NaN</td>\n",
       "      <td>NaN</td>\n",
       "      <td>712794</td>\n",
       "      <td>MA</td>\n",
       "      <td>02119</td>\n",
       "      <td>CARL TODISCO</td>\n",
       "      <td>NaN</td>\n",
       "      <td>NaN</td>\n",
       "      <td>False</td>\n",
       "    </tr>\n",
       "    <tr>\n",
       "      <td>118460</td>\n",
       "      <td>513159</td>\n",
       "      <td>59 Dudley Street</td>\n",
       "      <td>-1600.00</td>\n",
       "      <td>Boston</td>\n",
       "      <td>NaN</td>\n",
       "      <td>OTHER</td>\n",
       "      <td>2018-10-22</td>\n",
       "      <td>NaN</td>\n",
       "      <td>Chynah</td>\n",
       "      <td>Chynah Tyler</td>\n",
       "      <td>...</td>\n",
       "      <td>13404256</td>\n",
       "      <td>NaN</td>\n",
       "      <td>NaN</td>\n",
       "      <td>712795</td>\n",
       "      <td>MA</td>\n",
       "      <td>02119</td>\n",
       "      <td>CHYNAH TYLER</td>\n",
       "      <td>NaN</td>\n",
       "      <td>Candidate</td>\n",
       "      <td>False</td>\n",
       "    </tr>\n",
       "  </tbody>\n",
       "</table>\n",
       "<p>118461 rows × 22 columns</p>\n",
       "</div>"
      ],
      "text/plain": [
       "        Unnamed: 0               Address   Amount       City  Contributor_ID  \\\n",
       "0             7373  270 S. Common Street   500.00       Lynn             NaN   \n",
       "1             7374       186 Perkins Row   250.00  Topsfield             NaN   \n",
       "2             7634          11 Lake Ave.    25.00       Lynn             NaN   \n",
       "3             7635         7 William St.    50.00       Lynn             NaN   \n",
       "4             7636      20 Bulfinch Ter.    50.00       Lynn             NaN   \n",
       "...            ...                   ...      ...        ...             ...   \n",
       "118456      513155    45 Winthrop Street    50.00     Boston             NaN   \n",
       "118457      513156     50 Forsyth Street   150.00     Boston             NaN   \n",
       "118458      513157               Actblue  1413.42    Actblue             NaN   \n",
       "118459      513158        60 Winthrop St    50.00    Roxbury             NaN   \n",
       "118460      513159      59 Dudley Street -1600.00     Boston             NaN   \n",
       "\n",
       "       Contributor_Type        Date             Employer First_Name  \\\n",
       "0            Individual  2015-01-01  McGrath Enterprises    Patrick   \n",
       "1            Individual  2015-01-15                 Self     Thomas   \n",
       "2            Individual  2015-03-02                  NaN    Loretta   \n",
       "3            Individual  2015-03-02                  NaN    Stephen   \n",
       "4            Individual  2015-03-02                  NaN  Ann Marie   \n",
       "...                 ...         ...                  ...        ...   \n",
       "118456       Individual  2018-09-06                  NaN         Np   \n",
       "118457       Individual  2018-09-06                 Self    Chicken   \n",
       "118458       Individual  2018-08-28              Actblue    Actblue   \n",
       "118459       Individual  2018-09-06                  NaN       Carl   \n",
       "118460            OTHER  2018-10-22                  NaN     Chynah   \n",
       "\n",
       "               Full_Name  ...  Line_Sequence Occupation  Principal_Officer  \\\n",
       "0       Daniel F. Cahill  ...        9166451  Developer                NaN   \n",
       "1       Daniel F. Cahill  ...        9166452   Attorney                NaN   \n",
       "2       Daniel F. Cahill  ...        9168914        NaN                NaN   \n",
       "3       Daniel F. Cahill  ...        9168915        NaN                NaN   \n",
       "4       Daniel F. Cahill  ...        9168916        NaN                NaN   \n",
       "...                  ...  ...            ...        ...                ...   \n",
       "118456      Chynah Tyler  ...       13404233        NaN                NaN   \n",
       "118457      Chynah Tyler  ...       13404234  Resturant                NaN   \n",
       "118458      Chynah Tyler  ...       13404235    actable                NaN   \n",
       "118459      Chynah Tyler  ...       13404236        NaN                NaN   \n",
       "118460      Chynah Tyler  ...       13404256        NaN                NaN   \n",
       "\n",
       "       Report_ID State    Zip         Donor_Name       Industry        PAC  \\\n",
       "0         217037    MA  01905    PATRICK MCGRATH            NaN        NaN   \n",
       "1         217037    MA  01983     THOMAS DEMAKIS     Healthcare        NaN   \n",
       "2         217124    MA  10904  LORETTA O'DONNELL            NaN        NaN   \n",
       "3         217124    MA  01904    STEPHEN SPENCER            NaN        NaN   \n",
       "4         217124    MA  01902  ANN MARIE LEONARD            NaN        NaN   \n",
       "...          ...   ...    ...                ...            ...        ...   \n",
       "118456    712794    MA  02119           NP RIGGS            NaN        NaN   \n",
       "118457    712794    MA  02115       CHICKEN LOUS  Self-Employed        NaN   \n",
       "118458    712794    MA    NaN    ACTBLUE ACTBLUE            NaN        NaN   \n",
       "118459    712794    MA  02119       CARL TODISCO            NaN        NaN   \n",
       "118460    712795    MA  02119       CHYNAH TYLER            NaN  Candidate   \n",
       "\n",
       "       Lobbyist  \n",
       "0         False  \n",
       "1         False  \n",
       "2         False  \n",
       "3         False  \n",
       "4         False  \n",
       "...         ...  \n",
       "118456    False  \n",
       "118457    False  \n",
       "118458    False  \n",
       "118459    False  \n",
       "118460    False  \n",
       "\n",
       "[118461 rows x 22 columns]"
      ]
     },
     "execution_count": 163,
     "metadata": {},
     "output_type": "execute_result"
    }
   ],
   "source": [
    "df_contribuion"
   ]
  },
  {
   "cell_type": "code",
   "execution_count": 166,
   "metadata": {},
   "outputs": [],
   "source": [
    "df_contribuion.to_csv('data/contribution_processed.csv')"
   ]
  },
  {
   "cell_type": "code",
   "execution_count": null,
   "metadata": {},
   "outputs": [],
   "source": []
  }
 ],
 "metadata": {
  "kernelspec": {
   "display_name": "Python 3",
   "language": "python",
   "name": "python3"
  },
  "language_info": {
   "codemirror_mode": {
    "name": "ipython",
    "version": 3
   },
   "file_extension": ".py",
   "mimetype": "text/x-python",
   "name": "python",
   "nbconvert_exporter": "python",
   "pygments_lexer": "ipython3",
   "version": "3.7.1"
  }
 },
 "nbformat": 4,
 "nbformat_minor": 2
}
