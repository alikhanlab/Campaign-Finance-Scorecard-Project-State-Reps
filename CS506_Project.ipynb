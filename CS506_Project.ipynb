{
 "cells": [
  {
   "cell_type": "code",
   "execution_count": 1,
   "metadata": {
    "colab": {},
    "colab_type": "code",
    "id": "_H-LGChalxcK"
   },
   "outputs": [],
   "source": [
    "import pandas as pd\n",
    "import numpy as np\n",
    "import re\n",
    "\n",
    "datasets_dir = 'C:/Courses/1 - CS506 - Tools for Data Science/Project/Data/CSV/'"
   ]
  },
  {
   "cell_type": "code",
   "execution_count": 2,
   "metadata": {},
   "outputs": [],
   "source": [
    "contributions_2016 = 'contributions-2015-2016.csv'\n",
    "df_contributions_2016 = pd.read_csv(datasets_dir + contributions_2016, encoding = 'latin1')"
   ]
  },
  {
   "cell_type": "code",
   "execution_count": 3,
   "metadata": {},
   "outputs": [],
   "source": [
    "statereps_2016 = 'State_Reps_2015-2016.csv'\n",
    "df_reps_2016 = pd.read_csv(datasets_dir + statereps_2016, encoding = 'latin1')"
   ]
  },
  {
   "cell_type": "code",
   "execution_count": 4,
   "metadata": {
    "colab": {
     "base_uri": "https://localhost:8080/",
     "height": 469
    },
    "colab_type": "code",
    "id": "NfPq8mbWlxcR",
    "outputId": "50538f67-f689-4a71-82dd-f2eac3c458f3"
   },
   "outputs": [
    {
     "name": "stderr",
     "output_type": "stream",
     "text": [
      "C:\\Users\\WINPC\\AppData\\Roaming\\Python\\Python37\\site-packages\\IPython\\core\\interactiveshell.py:3058: DtypeWarning: Columns (1,2) have mixed types. Specify dtype option on import or set low_memory=False.\n",
      "  interactivity=interactivity, compiler=compiler, result=result)\n"
     ]
    }
   ],
   "source": [
    "contributions_2018 = 'contributions-2017-2018.csv'\n",
    "df_contributions_2018 = pd.read_csv(datasets_dir + contributions_2018, encoding = 'latin1')"
   ]
  },
  {
   "cell_type": "code",
   "execution_count": 5,
   "metadata": {},
   "outputs": [],
   "source": [
    "statereps_2018 = 'State_Reps_2017-2018.csv'\n",
    "df_reps_2018 = pd.read_csv(datasets_dir + statereps_2018, encoding = 'latin1')"
   ]
  },
  {
   "cell_type": "code",
   "execution_count": 6,
   "metadata": {
    "colab": {},
    "colab_type": "code",
    "id": "Jlyp_Pt0lxcZ"
   },
   "outputs": [],
   "source": [
    "import pandas as pd\n",
    "\n",
    "# Get list of all elected Candidates from 2015-2018\n",
    "reps = [df_reps_2016, df_reps_2018]\n",
    "df_reps = pd.concat(reps, sort=True)\n",
    "state_reps = list(df_reps['Representative'].unique())\n",
    "\n",
    "# Deallocate memory\n",
    "reps = []\n",
    "df_reps_2016 = []\n",
    "df_reps_2018 = []"
   ]
  },
  {
   "cell_type": "code",
   "execution_count": 7,
   "metadata": {},
   "outputs": [],
   "source": [
    "import pandas as pd\n",
    "\n",
    "# Combine all contributions from 2015-2018\n",
    "contributions = [df_contributions_2016, df_contributions_2018]\n",
    "df_contributions = pd.concat(contributions, sort=True)\n",
    "\n",
    "# Deallocate memory\n",
    "contributions = []\n",
    "df_contributions_2016 = []\n",
    "df_contributions_2018 = []"
   ]
  },
  {
   "cell_type": "code",
   "execution_count": 8,
   "metadata": {
    "colab": {},
    "colab_type": "code",
    "id": "YsBMxplnlxce",
    "outputId": "adac16ce-a40d-435c-db7b-893e7066bb58"
   },
   "outputs": [
    {
     "data": {
      "text/plain": [
       "193"
      ]
     },
     "metadata": {},
     "output_type": "display_data"
    },
    {
     "data": {
      "text/plain": [
       "(894666, 17)"
      ]
     },
     "metadata": {},
     "output_type": "display_data"
    }
   ],
   "source": [
    "display(len(state_reps))\n",
    "display(df_contributions.shape)"
   ]
  },
  {
   "cell_type": "code",
   "execution_count": 9,
   "metadata": {},
   "outputs": [],
   "source": [
    "df_2018_real = df_contributions.loc[df_contributions.Full_Name.isin(state_reps)]"
   ]
  },
  {
   "cell_type": "code",
   "execution_count": 10,
   "metadata": {},
   "outputs": [
    {
     "name": "stderr",
     "output_type": "stream",
     "text": [
      "C:\\Users\\WINPC\\AppData\\Roaming\\Python\\Python37\\site-packages\\ipykernel_launcher.py:14: SettingWithCopyWarning: \n",
      "A value is trying to be set on a copy of a slice from a DataFrame.\n",
      "Try using .loc[row_indexer,col_indexer] = value instead\n",
      "\n",
      "See the caveats in the documentation: http://pandas.pydata.org/pandas-docs/stable/user_guide/indexing.html#returning-a-view-versus-a-copy\n",
      "  \n"
     ]
    }
   ],
   "source": [
    "# Creating new Donor_Name column that will allow easier analysis here\n",
    "# and moving forward\n",
    "\n",
    "import math\n",
    "\n",
    "def donor_name(first_name, last_name):\n",
    "    donor_name = ''\n",
    "    if (type(first_name) == str):\n",
    "        donor_name += first_name.upper().replace(\":-,.'\", ' ') + ' '\n",
    "    if (type(last_name) == str):\n",
    "        donor_name += last_name.upper().replace(\":-,.'\", ' ')\n",
    "    return donor_name\n",
    "\n",
    "df_2018_real['Donor_Name'] = df_2018_real[['First_Name', 'Last_Name']].apply(lambda x: donor_name(x[0], x[1]), axis=1)"
   ]
  },
  {
   "cell_type": "code",
   "execution_count": 11,
   "metadata": {},
   "outputs": [],
   "source": [
    "import re\n",
    "import numpy as np\n",
    "\n",
    "# Regular Expression Search for each Industry\n",
    "\n",
    "# Law Enforcement\n",
    "law_enforcement_keywords = ['law enforcement', 'district attorney', 'prosecutor', 'detective', 'trooper', 'probation officer', 'sheriff', 'correction', 'prison', 'patrolm[ae]n']\n",
    "law_enforcement_regex = ''\n",
    "\n",
    "for line in law_enforcement_keywords:\n",
    "    law_enforcement_regex += '(' + line +')|'\n",
    "\n",
    "law_enforcement_regex += '(police)'\n",
    "# display(regex_expr)"
   ]
  },
  {
   "cell_type": "code",
   "execution_count": 12,
   "metadata": {},
   "outputs": [],
   "source": [
    "# Education\n",
    "education_keywords = ['teacher', 'educator', 'university', 'school', 'college', 'tutor', 'tuition', 'academ(y|ic)']\n",
    "education_regex = ''\n",
    "\n",
    "for line in education_keywords:\n",
    "    education_regex += '(' + line +')|'\n",
    "\n",
    "education_regex += '(education)'\n",
    "# display(regex_expr)"
   ]
  },
  {
   "cell_type": "code",
   "execution_count": 13,
   "metadata": {},
   "outputs": [],
   "source": [
    "# Real Estate\n",
    "realestate_keywords = ['realtor', 'realty', 'housing', 'leasing', '[^(it)|^(software)|^(data)] developer', '[^(it)|^(software)|^(data)] architect', 'construction', 'lodging', 'propert(y|ies)', 'residential', 'contractor']\n",
    "realestate_regex = ''\n",
    "\n",
    "for line in realestate_keywords:\n",
    "    realestate_regex += '(' + line +')|'\n",
    "\n",
    "realestate_regex += '(real estate)'\n",
    "# display(regex_expr)"
   ]
  },
  {
   "cell_type": "code",
   "execution_count": 14,
   "metadata": {},
   "outputs": [],
   "source": [
    "# Healthcare\n",
    "# Note - 'opthalm', 'urolog', 'chiropract', 'psychiatr' are added to match root words of medical specializations\n",
    "healthcare_keywords = ['health care', 'health', 'medical', 'hospital', 'nurse', 'rehab', 'nursing', 'clinic', 'doctor', 'psychologist', 'surgeon', 'dental', 'dentist', 'physician', 'opthalm', 'urolog', 'pharmacist', 'eye care', 'eye center', 'chiropract', 'psychiatr']\n",
    "healthcare_regex = ''\n",
    "\n",
    "for line in healthcare_keywords:\n",
    "    healthcare_regex += '(' + line +')|'\n",
    "\n",
    "healthcare_regex += '(healthcare)'\n",
    "# display(regex_expr)"
   ]
  },
  {
   "cell_type": "code",
   "execution_count": 15,
   "metadata": {},
   "outputs": [],
   "source": [
    "# BioTech / Pharma\n",
    "biotech_keywords = ['genetech', 'bioscience']\n",
    "biotech_regex = ''\n",
    "\n",
    "for line in biotech_keywords:\n",
    "    biotech_regex += '(' + line +')|'\n",
    "\n",
    "biotech_regex += '(bio science)'\n",
    "# display(regex_expr)"
   ]
  },
  {
   "cell_type": "code",
   "execution_count": 16,
   "metadata": {},
   "outputs": [],
   "source": [
    "def find_industry(donor_name, occupation, employer): \n",
    "    text = str(donor_name) + ' ' + str(occupation) + ' ' + str(employer)\n",
    "    text = text.lower().replace(\":-,.'\", '')\n",
    "#     display(text)\n",
    "    if(re.search(law_enforcement_regex, text)):\n",
    "        return 'Law Enforcement'\n",
    "    if (re.search(education_regex, text)):\n",
    "        return 'Education'\n",
    "    if (re.search(realestate_regex, text)):\n",
    "        return 'Real Estate'\n",
    "    if (re.search(healthcare_regex, text)):\n",
    "        return 'Healthcare'\n",
    "    if (re.search(biotech_regex, text)):\n",
    "        return 'Biotech/Pharma'\n",
    "    # Case no match found\n",
    "    return np.nan"
   ]
  },
  {
   "cell_type": "code",
   "execution_count": 17,
   "metadata": {},
   "outputs": [],
   "source": [
    "# PAC keywords\n",
    "PAC_keywords = ['\\Wpac\\W', 'pol action', 'political action', 'committee', 'action']\n",
    "PAC_regex = ''\n",
    "\n",
    "for line in PAC_keywords:\n",
    "    PAC_regex += '(' + line +')|'\n",
    "\n",
    "PAC_regex += '(real estate)'\n",
    "# display(regex_expr)"
   ]
  },
  {
   "cell_type": "code",
   "execution_count": 18,
   "metadata": {},
   "outputs": [],
   "source": [
    "# Union Keywords\n",
    "union_keywords = ['\\Wunion\\W', 'association']\n",
    "union_regex = ''\n",
    "\n",
    "for line in union_keywords:\n",
    "    union_regex += '(' + line +')|'\n",
    "\n",
    "union_regex += '(union pac)'\n",
    "# display(regex_expr)"
   ]
  },
  {
   "cell_type": "code",
   "execution_count": 19,
   "metadata": {},
   "outputs": [],
   "source": [
    "from fuzzywuzzy import fuzz\n",
    "\n",
    "def fuzzy_compare(str1, str2):\n",
    "#     display(str1 + ' == ' +str2)#debug\n",
    "    ratio = fuzz.ratio(str1.lower().replace(\":-,.'\", ''), str2.lower().replace(\":-,.'\", ''))\n",
    "#     display(ratio)#debug\n",
    "    if (ratio > 80):\n",
    "        return True\n",
    "    else:\n",
    "        return False"
   ]
  },
  {
   "cell_type": "code",
   "execution_count": 26,
   "metadata": {},
   "outputs": [],
   "source": [
    "import pandas as pd\n",
    "\n",
    "df_state_reps = pd.DataFrame(state_reps, columns = ['Representative'])\n",
    "# display(df_state_reps['Representative'].head())\n",
    "\n",
    "def find_PAC(donor_name, candidate_name): \n",
    "    text = ' ' + str(donor_name) + ' '\n",
    "    text = text.lower().replace(\":-,.'\", ' ')\n",
    "#     display(text)\n",
    "    # Note - Union checking must come before PAC because of \"union pac\"\n",
    "    if(re.search(union_regex, text)):\n",
    "        return 'Union'\n",
    "    if(re.search(PAC_regex, text)):\n",
    "        return 'PAC'\n",
    "    \n",
    "#     candidateFound = df_state_reps['Representative'].apply(lambda x: fuzzy_compare(donor_name, x))\n",
    "    candidateFound = fuzzy_compare(donor_name, candidate_name)\n",
    "#     display(candidateFound)\n",
    "    if (candidateFound):\n",
    "        return 'Candidate'\n",
    "    # Case no match found\n",
    "    return np.nan"
   ]
  },
  {
   "cell_type": "code",
   "execution_count": 21,
   "metadata": {},
   "outputs": [
    {
     "name": "stderr",
     "output_type": "stream",
     "text": [
      "C:\\Users\\WINPC\\AppData\\Roaming\\Python\\Python37\\site-packages\\ipykernel_launcher.py:1: SettingWithCopyWarning: \n",
      "A value is trying to be set on a copy of a slice from a DataFrame.\n",
      "Try using .loc[row_indexer,col_indexer] = value instead\n",
      "\n",
      "See the caveats in the documentation: http://pandas.pydata.org/pandas-docs/stable/user_guide/indexing.html#returning-a-view-versus-a-copy\n",
      "  \"\"\"Entry point for launching an IPython kernel.\n"
     ]
    }
   ],
   "source": [
    "df_2018_real['Industry'] = df_2018_real[['Donor_Name', 'Occupation', 'Employer']].apply(lambda x: find_industry(x[0], x[1], x[2]), axis=1)\n",
    "\n",
    "# df_2018_real['Industry'] = df_2018_real[df_2018_real.Occupation.notnull()]['Occupation'].apply(find_industry)\n",
    "# df_2018_real['Industry'] = df_2018_real[df_2018_real.Employer.notnull()]['Employer'].apply(find_industry)"
   ]
  },
  {
   "cell_type": "code",
   "execution_count": 28,
   "metadata": {},
   "outputs": [
    {
     "name": "stderr",
     "output_type": "stream",
     "text": [
      "C:\\Users\\WINPC\\AppData\\Roaming\\Python\\Python37\\site-packages\\ipykernel_launcher.py:1: SettingWithCopyWarning: \n",
      "A value is trying to be set on a copy of a slice from a DataFrame.\n",
      "Try using .loc[row_indexer,col_indexer] = value instead\n",
      "\n",
      "See the caveats in the documentation: http://pandas.pydata.org/pandas-docs/stable/user_guide/indexing.html#returning-a-view-versus-a-copy\n",
      "  \"\"\"Entry point for launching an IPython kernel.\n"
     ]
    }
   ],
   "source": [
    "df_2018_real['PAC'] = df_2018_real[['Donor_Name', 'Full_Name']].apply(lambda x: find_PAC(x[0], x[1]), axis=1)"
   ]
  },
  {
   "cell_type": "code",
   "execution_count": 23,
   "metadata": {},
   "outputs": [],
   "source": [
    "# df_2018_real.loc[df_2018_real.PAC.notnull()]"
   ]
  },
  {
   "cell_type": "code",
   "execution_count": 29,
   "metadata": {},
   "outputs": [],
   "source": [
    "df_2018_real.to_csv('C:/Courses/1 - CS506 - Tools for Data Science/Project/Data/Analysis Report/contribution_processed.csv')"
   ]
  },
  {
   "cell_type": "code",
   "execution_count": 25,
   "metadata": {},
   "outputs": [],
   "source": [
    "# df_2018_real.loc[df_2018_real.Full_Name=='Robert A. DeLeo']"
   ]
  }
 ],
 "metadata": {
  "colab": {
   "collapsed_sections": [],
   "name": "pr.ipynb",
   "provenance": []
  },
  "kernelspec": {
   "display_name": "Python 3",
   "language": "python",
   "name": "python3"
  },
  "language_info": {
   "codemirror_mode": {
    "name": "ipython",
    "version": 3
   },
   "file_extension": ".py",
   "mimetype": "text/x-python",
   "name": "python",
   "nbconvert_exporter": "python",
   "pygments_lexer": "ipython3",
   "version": "3.7.5"
  }
 },
 "nbformat": 4,
 "nbformat_minor": 1
}
