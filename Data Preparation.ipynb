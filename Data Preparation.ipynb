{
 "cells": [
  {
   "cell_type": "code",
   "execution_count": 1,
   "metadata": {},
   "outputs": [],
   "source": [
    "import pandas as pd\n",
    "import numpy as np\n",
    "import re\n",
    "import os\n",
    "\n",
    "datasets_dir = os.getcwd() + '/data/'\n",
    "contributions = 'contribution_processed.csv'\n",
    "df_contributions = pd.read_csv(datasets_dir + contributions, encoding = 'latin1')"
   ]
  },
  {
   "cell_type": "code",
   "execution_count": 2,
   "metadata": {},
   "outputs": [],
   "source": [
    "statereps_2016 = 'State_Reps_2015-2016.csv'\n",
    "df_reps_2016 = pd.read_csv(datasets_dir + statereps_2016, encoding = 'latin1')\n",
    "statereps_2018 = 'State_Reps_2017-2018.csv'\n",
    "df_reps_2018 = pd.read_csv(datasets_dir + statereps_2018, encoding = 'latin1')\n",
    "\n",
    "# Get list of all elected Candidates from 2015-2018\n",
    "reps = [df_reps_2016, df_reps_2018]\n",
    "df_reps = pd.concat(reps, sort=True)\n",
    "df_reps.drop_duplicates(subset=['Representative'], keep='first', inplace=True)"
   ]
  },
  {
   "cell_type": "code",
   "execution_count": 3,
   "metadata": {},
   "outputs": [],
   "source": [
    "df_contributions = df_contributions.merge(df_reps, how='left', left_on='Full_Name', right_on='Representative')"
   ]
  },
  {
   "cell_type": "code",
   "execution_count": 15,
   "metadata": {},
   "outputs": [],
   "source": [
    "df_contributions.drop(columns=['Unnamed: 0','Unnamed: 0.1'],inplace=True)\n",
    "df_contributions.to_csv(os.getcwd() +  '/data/contribution_processed.csv')"
   ]
  },
  {
   "cell_type": "code",
   "execution_count": 45,
   "metadata": {},
   "outputs": [],
   "source": []
  }
 ],
 "metadata": {
  "kernelspec": {
   "display_name": "Python 3",
   "language": "python",
   "name": "python3"
  },
  "language_info": {
   "codemirror_mode": {
    "name": "ipython",
    "version": 3
   },
   "file_extension": ".py",
   "mimetype": "text/x-python",
   "name": "python",
   "nbconvert_exporter": "python",
   "pygments_lexer": "ipython3",
   "version": "3.7.5"
  }
 },
 "nbformat": 4,
 "nbformat_minor": 2
}
